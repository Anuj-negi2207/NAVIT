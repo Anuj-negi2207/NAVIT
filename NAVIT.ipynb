{
  "nbformat": 4,
  "nbformat_minor": 0,
  "metadata": {
    "colab": {
      "name": "NAVIT",
      "provenance": [],
      "collapsed_sections": []
    },
    "kernelspec": {
      "name": "python3",
      "display_name": "Python 3"
    }
  },
  "cells": [
    {
      "cell_type": "code",
      "metadata": {
        "id": "ARJpX99KdBM8"
      },
      "source": [
        "import gspread, requests\r\n",
        "from oauth2client.service_account import ServiceAccountCredentials\r\n",
        "import pandas as pd\r\n",
        "import pprint"
      ],
      "execution_count": null,
      "outputs": []
    },
    {
      "cell_type": "code",
      "metadata": {
        "id": "BtwkruqVdWRt"
      },
      "source": [
        "scope = [\"https://spreadsheets.google.com/feeds\", \"https://www.googleapis.com/auth/spreadsheets\", \"https://www.googleapis.com/auth/drive.file\", \"https://www.googleapis.com/auth/drive\"]\r\n",
        "creds = ServiceAccountCredentials.from_json_keyfile_name(\"client_secret.json\", scope)\r\n",
        "\r\n",
        "client = gspread.authorize(creds)\r\n",
        "ss = client.open(\"NAVIT\")\r\n"
      ],
      "execution_count": null,
      "outputs": []
    },
    {
      "cell_type": "code",
      "metadata": {
        "id": "Lyny3fEarhF_"
      },
      "source": [
        "Monday = ss.get_worksheet(0)\r\n",
        "Tuesday = ss.get_worksheet(1)\r\n",
        "Wednesday = ss.get_worksheet(2)\r\n",
        "Thursday = ss.get_worksheet(3)\r\n",
        "Friday = ss.get_worksheet(4)\r\n",
        "Class_references = ss.get_worksheet(5)\r\n",
        "Node_details = ss.get_worksheet(6)"
      ],
      "execution_count": null,
      "outputs": []
    },
    {
      "cell_type": "code",
      "metadata": {
        "id": "yRZ3WLm4pq4l"
      },
      "source": [
        "column1 = [\"O\", \"A0\", \"B0\", \"C0\", \"D0\", \"G0\", \"J0\", \"H0\", \"Y0\", \"L\", \"S11\", \"S12\", \"S13\", \"M11\", \"M12\", \"M13\", \"A1\", \"B1\", \"C1\", \"D1\", \"G1\", \"J1\", \"LIB\", \"Y1\", \"S21\", \"S22\", \"S23\", \"M21\", \"M22\", \"M23\", \"LAB 1\", \"A2\", \"C2\", \"D2\", \"G2\", \"J2\", \"K2\", \"N2\", \"LAB2\", \"S31\", \"S32\", \"S33\", \"M31\", \"M32\", \"M33\"]\r\n",
        "column2 = [\"Entrance\", \"AB001 - Coding Studio I\", \"AB002 - Coding Studio II\", \"AB003 - Coding Studio III\", \"AB004 - Faculty Cabin - Ground Floor\", \"AB005 - Computer Lab 1\", \"AB008 - Music Room - Auditorium Main\", \"Auditorium Back\", \"Conference Room\", \"Leftest Corner\", \"Stairs at AB003\", \"Stairs at Auditorium\", \"Stairs at SDC Office\", \"Stairs mid of Ground and 1st Floor at AB003\", \"Stairs mid of Ground and 1st Floor at Auditorium\", \"Stairs mid of Ground and 1st Floor at SDC Office\", \"AB101 - Math Studio I\", \"AB102 - Math Studio II\", \"AB103 - Math Studio II\", \"AB104 - Faculty Cabin - 1st Floor\", \"AB105 - Computer Lab 2\", \"AB108 - Joint - Examination Cabin\", \"Library \", \"Unknown Lab\", \"Stairs at AB103\", \"Stairs at Examination Cabin\", \"Stairs at Library\", \"Stairs mid of 1st and 2nd Floor at AB103\", \"Stairs mid of 1st and 2nd Floor at Examination Cabin\", \"Stairs mid of 1st and 2nd Floor at Library\", \"AB201 - ECE Lab\", \"AB202 - Classroom\", \"AB203 - Engineering Drawing\", \"AB204 - Faculty Cabin - 2nd Floor\", \"AB205 - English Studio\", \"AB208 - Joint\", \"AB209 - Hall\", \"AB210 - Classroom\", \"AB211 - EEE Lab\", \"Stairs at Engineering Studio\", \"Stairs at AB209\", \"Stairs at ECE Lab\", \"Stairs mid of 2nd and 3rd Floor at Engineering Studio\", \"Stairs mid of 2nd and 3rd Floor at AB209\", \"Stairs End\"]\r\n",
        "\r\n"
      ],
      "execution_count": null,
      "outputs": []
    },
    {
      "cell_type": "code",
      "metadata": {
        "id": "Uyt0pOkuFoab"
      },
      "source": [
        "index = 0\r\n",
        "for index in range(len(column1)):\r\n",
        "  Node_details.update_cell(index+1, 3, index+1)"
      ],
      "execution_count": null,
      "outputs": []
    },
    {
      "cell_type": "code",
      "metadata": {
        "id": "DwvqJ3sqCYoY"
      },
      "source": [
        "index = 38\r\n",
        "for index in range(len(column2)):\r\n",
        "  Node_details.update_cell(index+1, 2, column2[index])\r\n",
        "  "
      ],
      "execution_count": null,
      "outputs": []
    },
    {
      "cell_type": "code",
      "metadata": {
        "colab": {
          "base_uri": "https://localhost:8080/",
          "height": 35
        },
        "id": "FuGqfD_JoItS",
        "outputId": "f2a4eb2a-bbcb-4020-a03c-ebb29cc05248"
      },
      "source": [
        "#indices of rooms available over university\r\n",
        "Rooms = []"
      ],
      "execution_count": null,
      "outputs": [
        {
          "output_type": "execute_result",
          "data": {
            "application/vnd.google.colaboratory.intrinsic+json": {
              "type": "string"
            },
            "text/plain": [
              "'\\nSheets = \\nMonday \\nTuesday \\nWednesday\\nThursday \\nFriday\\nClass_references \\nNode_details\\n'"
            ]
          },
          "metadata": {
            "tags": []
          },
          "execution_count": 6
        }
      ]
    },
    {
      "cell_type": "code",
      "metadata": {
        "id": "vkcRzL8lHwAs"
      },
      "source": [
        "class Node:\r\n",
        "  Node_name = str        #class or area name\r\n",
        "  Node_number = int      #Unique class number\r\n",
        "  Status = bool          # 0 for unavailable, 1 for unavaialble\r\n",
        "\r\n",
        "  def __init__(self, name, number, St):\r\n",
        "    self.Node_name = name\r\n",
        "    self.Node_number = number\r\n",
        "    self.Status = St\r\n",
        "\r\n",
        "  def UpdateStatus(self, Changeto):\r\n",
        "    self.Status = Changeto\r\n"
      ],
      "execution_count": null,
      "outputs": []
    },
    {
      "cell_type": "code",
      "metadata": {
        "id": "ChjeoJHdMQRk"
      },
      "source": [
        "class Person:\r\n",
        "  Person_name = str\r\n",
        "  Person_reg_number = str\r\n",
        "  Person_timetable = "
      ],
      "execution_count": null,
      "outputs": []
    },
    {
      "cell_type": "code",
      "metadata": {
        "id": "HDEWG03CNGcQ"
      },
      "source": [
        "class TimeTable:\r\n",
        "  "
      ],
      "execution_count": null,
      "outputs": []
    }
  ]
}